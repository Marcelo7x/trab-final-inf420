{
  "metadata": {
    "kernelspec": {
      "language": "python",
      "display_name": "Python 3",
      "name": "python3"
    },
    "language_info": {
      "name": "python",
      "version": "3.7.10",
      "mimetype": "text/x-python",
      "codemirror_mode": {
        "name": "ipython",
        "version": 3
      },
      "pygments_lexer": "ipython3",
      "nbconvert_exporter": "python",
      "file_extension": ".py"
    },
    "colab": {
      "name": "trabalho-final-inf420.ipynb",
      "provenance": []
    }
  },
  "nbformat_minor": 0,
  "nbformat": 4,
  "cells": [
    {
      "cell_type": "markdown",
      "source": [
        "## Carlos Eduardo Sabino 98894  \n",
        "## Marcelo Henrique do Nascimento 98094\n",
        "\n",
        "O dataset usado foi fornecido pela empresa Stilingue na SI/2021, entramos em contato com eles para pedir  \n",
        "permissão para usá-lo, porém não nos responderam, dessa forma usamos a parte pública disponibilizada para os testes no próprio hackathon."
      ],
      "metadata": {
        "id": "nOA2oiq4cIE_"
      }
    },
    {
      "cell_type": "code",
      "source": [
        "# importando as bibliotecas necessárias para fazer as manipulações de dados\n",
        "\n",
        "from nltk import word_tokenize\n",
        "import nltk\n",
        "nltk.download('stopwords')\n",
        "import re\n",
        "import pandas as pd\n",
        "import numpy as np\n",
        "from sklearn.feature_extraction.text import CountVectorizer\n",
        "from sklearn.naive_bayes import MultinomialNB\n",
        "from sklearn import svm\n",
        "from sklearn import metrics\n",
        "from sklearn.model_selection import cross_val_predict\n",
        "\n",
        "from gensim import corpora, models, similarities\n",
        "from nltk.probability import *\n",
        "\n",
        "from sklearn.decomposition import PCA\n",
        "from keras.preprocessing.text import text_to_word_sequence\n",
        "from keras.preprocessing.text import Tokenizer\n",
        "from keras.preprocessing.sequence import pad_sequences\n",
        "from keras.layers import Embedding\n",
        "\n",
        "from numpy import asarray\n",
        "from numpy import zeros\n",
        "\n",
        "import time \n",
        "import operator\n",
        "from matplotlib import pyplot\n",
        "from nltk.text import Text\n",
        "from nltk.corpus.reader.plaintext import PlaintextCorpusReader\n",
        "from nltk.util import ngrams\n",
        "from numpy import array\n",
        "import numpy as np\n",
        "from numpy import zeros\n",
        "from numpy import asarray\n",
        "from keras.preprocessing.text import Tokenizer\n",
        "from nltk.tokenize import RegexpTokenizer\n",
        "from keras.preprocessing.sequence import pad_sequences\n",
        "from keras.preprocessing.text import text_to_word_sequence\n",
        "import nltk\n",
        "%matplotlib inline\n"
      ],
      "metadata": {
        "_uuid": "8f2839f25d086af736a60e9eeb907d3b93b6e0e5",
        "_cell_guid": "b1076dfc-b9ad-4769-8c92-a6c4dae69d19",
        "execution": {
          "iopub.status.busy": "2022-08-07T20:52:05.510730Z",
          "iopub.execute_input": "2022-08-07T20:52:05.511375Z",
          "iopub.status.idle": "2022-08-07T20:52:05.533677Z",
          "shell.execute_reply.started": "2022-08-07T20:52:05.511311Z",
          "shell.execute_reply": "2022-08-07T20:52:05.532999Z"
        },
        "trusted": true,
        "colab": {
          "base_uri": "https://localhost:8080/"
        },
        "id": "NihLu_7rcIFC",
        "outputId": "591aa315-3932-44eb-9c62-4eb0d464ff18"
      },
      "execution_count": null,
      "outputs": [
        {
          "output_type": "stream",
          "name": "stderr",
          "text": [
            "[nltk_data] Downloading package stopwords to /root/nltk_data...\n",
            "[nltk_data]   Unzipping corpora/stopwords.zip.\n"
          ]
        }
      ]
    },
    {
      "cell_type": "code",
      "source": [
        "# lendo a planilha CSV com a biblioteca Pandas, e salvando como uma varíavel \"train\"\n",
        "train = pd.read_csv(\"train.csv\", index_col=0)\n",
        "\n",
        "# exibindo o dataframe\n",
        "train"
      ],
      "metadata": {
        "execution": {
          "iopub.status.busy": "2022-08-07T20:52:10.394659Z",
          "iopub.execute_input": "2022-08-07T20:52:10.395630Z",
          "iopub.status.idle": "2022-08-07T20:52:10.418104Z",
          "shell.execute_reply.started": "2022-08-07T20:52:10.395589Z",
          "shell.execute_reply": "2022-08-07T20:52:10.417226Z"
        },
        "trusted": true,
        "colab": {
          "base_uri": "https://localhost:8080/",
          "height": 455
        },
        "id": "VWgt3Zw6cIFG",
        "outputId": "db0e9064-6cd4-4595-9c51-8382e3ebb6e4"
      },
      "execution_count": null,
      "outputs": [
        {
          "output_type": "execute_result",
          "data": {
            "text/plain": [
              "                                                 texto  sentimento\n",
              "id                                                                \n",
              "668  silvia descobrindo a existência da criança que...           1\n",
              "306  saudades da minha novelinha laços de família e...           1\n",
              "188  Estou achando Vereda Tropical tão chatinha. Ac...          -1\n",
              "605      Mds a Dinah é muito burra #aviagemnogloboplay          -1\n",
              "896        Conde é da zoeira!!! #AGataComeuNoGLOBOPLAY           1\n",
              "..                                                 ...         ...\n",
              "945  pronto, depois de  laços de família  que marat...           1\n",
              "773  Atribuiria esse viés de esquerda ao Ricardo Li...           0\n",
              "389  Celebridade/América/Mulheres Apaixonadas não d...           1\n",
              "87   Vou citar o acidente da Simone em Selva de Ped...           1\n",
              "543  quando eu tava vendo A Favorita eu não aguenta...          -1\n",
              "\n",
              "[728 rows x 2 columns]"
            ],
            "text/html": [
              "\n",
              "  <div id=\"df-5a8870dc-91f1-4d9e-a6cb-c636c7f7ccae\">\n",
              "    <div class=\"colab-df-container\">\n",
              "      <div>\n",
              "<style scoped>\n",
              "    .dataframe tbody tr th:only-of-type {\n",
              "        vertical-align: middle;\n",
              "    }\n",
              "\n",
              "    .dataframe tbody tr th {\n",
              "        vertical-align: top;\n",
              "    }\n",
              "\n",
              "    .dataframe thead th {\n",
              "        text-align: right;\n",
              "    }\n",
              "</style>\n",
              "<table border=\"1\" class=\"dataframe\">\n",
              "  <thead>\n",
              "    <tr style=\"text-align: right;\">\n",
              "      <th></th>\n",
              "      <th>texto</th>\n",
              "      <th>sentimento</th>\n",
              "    </tr>\n",
              "    <tr>\n",
              "      <th>id</th>\n",
              "      <th></th>\n",
              "      <th></th>\n",
              "    </tr>\n",
              "  </thead>\n",
              "  <tbody>\n",
              "    <tr>\n",
              "      <th>668</th>\n",
              "      <td>silvia descobrindo a existência da criança que...</td>\n",
              "      <td>1</td>\n",
              "    </tr>\n",
              "    <tr>\n",
              "      <th>306</th>\n",
              "      <td>saudades da minha novelinha laços de família e...</td>\n",
              "      <td>1</td>\n",
              "    </tr>\n",
              "    <tr>\n",
              "      <th>188</th>\n",
              "      <td>Estou achando Vereda Tropical tão chatinha. Ac...</td>\n",
              "      <td>-1</td>\n",
              "    </tr>\n",
              "    <tr>\n",
              "      <th>605</th>\n",
              "      <td>Mds a Dinah é muito burra #aviagemnogloboplay</td>\n",
              "      <td>-1</td>\n",
              "    </tr>\n",
              "    <tr>\n",
              "      <th>896</th>\n",
              "      <td>Conde é da zoeira!!! #AGataComeuNoGLOBOPLAY</td>\n",
              "      <td>1</td>\n",
              "    </tr>\n",
              "    <tr>\n",
              "      <th>...</th>\n",
              "      <td>...</td>\n",
              "      <td>...</td>\n",
              "    </tr>\n",
              "    <tr>\n",
              "      <th>945</th>\n",
              "      <td>pronto, depois de  laços de família  que marat...</td>\n",
              "      <td>1</td>\n",
              "    </tr>\n",
              "    <tr>\n",
              "      <th>773</th>\n",
              "      <td>Atribuiria esse viés de esquerda ao Ricardo Li...</td>\n",
              "      <td>0</td>\n",
              "    </tr>\n",
              "    <tr>\n",
              "      <th>389</th>\n",
              "      <td>Celebridade/América/Mulheres Apaixonadas não d...</td>\n",
              "      <td>1</td>\n",
              "    </tr>\n",
              "    <tr>\n",
              "      <th>87</th>\n",
              "      <td>Vou citar o acidente da Simone em Selva de Ped...</td>\n",
              "      <td>1</td>\n",
              "    </tr>\n",
              "    <tr>\n",
              "      <th>543</th>\n",
              "      <td>quando eu tava vendo A Favorita eu não aguenta...</td>\n",
              "      <td>-1</td>\n",
              "    </tr>\n",
              "  </tbody>\n",
              "</table>\n",
              "<p>728 rows × 2 columns</p>\n",
              "</div>\n",
              "      <button class=\"colab-df-convert\" onclick=\"convertToInteractive('df-5a8870dc-91f1-4d9e-a6cb-c636c7f7ccae')\"\n",
              "              title=\"Convert this dataframe to an interactive table.\"\n",
              "              style=\"display:none;\">\n",
              "        \n",
              "  <svg xmlns=\"http://www.w3.org/2000/svg\" height=\"24px\"viewBox=\"0 0 24 24\"\n",
              "       width=\"24px\">\n",
              "    <path d=\"M0 0h24v24H0V0z\" fill=\"none\"/>\n",
              "    <path d=\"M18.56 5.44l.94 2.06.94-2.06 2.06-.94-2.06-.94-.94-2.06-.94 2.06-2.06.94zm-11 1L8.5 8.5l.94-2.06 2.06-.94-2.06-.94L8.5 2.5l-.94 2.06-2.06.94zm10 10l.94 2.06.94-2.06 2.06-.94-2.06-.94-.94-2.06-.94 2.06-2.06.94z\"/><path d=\"M17.41 7.96l-1.37-1.37c-.4-.4-.92-.59-1.43-.59-.52 0-1.04.2-1.43.59L10.3 9.45l-7.72 7.72c-.78.78-.78 2.05 0 2.83L4 21.41c.39.39.9.59 1.41.59.51 0 1.02-.2 1.41-.59l7.78-7.78 2.81-2.81c.8-.78.8-2.07 0-2.86zM5.41 20L4 18.59l7.72-7.72 1.47 1.35L5.41 20z\"/>\n",
              "  </svg>\n",
              "      </button>\n",
              "      \n",
              "  <style>\n",
              "    .colab-df-container {\n",
              "      display:flex;\n",
              "      flex-wrap:wrap;\n",
              "      gap: 12px;\n",
              "    }\n",
              "\n",
              "    .colab-df-convert {\n",
              "      background-color: #E8F0FE;\n",
              "      border: none;\n",
              "      border-radius: 50%;\n",
              "      cursor: pointer;\n",
              "      display: none;\n",
              "      fill: #1967D2;\n",
              "      height: 32px;\n",
              "      padding: 0 0 0 0;\n",
              "      width: 32px;\n",
              "    }\n",
              "\n",
              "    .colab-df-convert:hover {\n",
              "      background-color: #E2EBFA;\n",
              "      box-shadow: 0px 1px 2px rgba(60, 64, 67, 0.3), 0px 1px 3px 1px rgba(60, 64, 67, 0.15);\n",
              "      fill: #174EA6;\n",
              "    }\n",
              "\n",
              "    [theme=dark] .colab-df-convert {\n",
              "      background-color: #3B4455;\n",
              "      fill: #D2E3FC;\n",
              "    }\n",
              "\n",
              "    [theme=dark] .colab-df-convert:hover {\n",
              "      background-color: #434B5C;\n",
              "      box-shadow: 0px 1px 3px 1px rgba(0, 0, 0, 0.15);\n",
              "      filter: drop-shadow(0px 1px 2px rgba(0, 0, 0, 0.3));\n",
              "      fill: #FFFFFF;\n",
              "    }\n",
              "  </style>\n",
              "\n",
              "      <script>\n",
              "        const buttonEl =\n",
              "          document.querySelector('#df-5a8870dc-91f1-4d9e-a6cb-c636c7f7ccae button.colab-df-convert');\n",
              "        buttonEl.style.display =\n",
              "          google.colab.kernel.accessAllowed ? 'block' : 'none';\n",
              "\n",
              "        async function convertToInteractive(key) {\n",
              "          const element = document.querySelector('#df-5a8870dc-91f1-4d9e-a6cb-c636c7f7ccae');\n",
              "          const dataTable =\n",
              "            await google.colab.kernel.invokeFunction('convertToInteractive',\n",
              "                                                     [key], {});\n",
              "          if (!dataTable) return;\n",
              "\n",
              "          const docLinkHtml = 'Like what you see? Visit the ' +\n",
              "            '<a target=\"_blank\" href=https://colab.research.google.com/notebooks/data_table.ipynb>data table notebook</a>'\n",
              "            + ' to learn more about interactive tables.';\n",
              "          element.innerHTML = '';\n",
              "          dataTable['output_type'] = 'display_data';\n",
              "          await google.colab.output.renderOutput(dataTable, element);\n",
              "          const docLink = document.createElement('div');\n",
              "          docLink.innerHTML = docLinkHtml;\n",
              "          element.appendChild(docLink);\n",
              "        }\n",
              "      </script>\n",
              "    </div>\n",
              "  </div>\n",
              "  "
            ]
          },
          "metadata": {},
          "execution_count": 17
        }
      ]
    },
    {
      "cell_type": "code",
      "source": [
        "#excluindo possiveis tweets duplicados\n",
        "train.drop_duplicates(['texto'], inplace=True)"
      ],
      "metadata": {
        "execution": {
          "iopub.status.busy": "2022-08-07T20:52:14.711219Z",
          "iopub.execute_input": "2022-08-07T20:52:14.711708Z",
          "iopub.status.idle": "2022-08-07T20:52:14.720215Z",
          "shell.execute_reply.started": "2022-08-07T20:52:14.711651Z",
          "shell.execute_reply": "2022-08-07T20:52:14.719254Z"
        },
        "trusted": true,
        "id": "GGAhYmsCcIFH"
      },
      "execution_count": null,
      "outputs": []
    },
    {
      "cell_type": "code",
      "source": [
        "# funcao de pre-processamento que elimina links e palavras sem muito valor para agregar ao modelo(ao,por,entao ....)\n",
        "import re\n",
        "def Preprocessing(instancia):\n",
        "    instancia = re.sub(r\"http\\S+\", \"\", instancia).lower().replace('.','').replace(';','').replace('-','').replace(':','').replace(')','').replace('\"','')\n",
        "    stopwords = set(nltk.corpus.stopwords.words('portuguese'))\n",
        "    palavras = [i for i in instancia.split() if not i in stopwords]\n",
        "    return (\" \".join(palavras))"
      ],
      "metadata": {
        "execution": {
          "iopub.status.busy": "2022-08-07T20:52:18.682324Z",
          "iopub.execute_input": "2022-08-07T20:52:18.683003Z",
          "iopub.status.idle": "2022-08-07T20:52:18.691671Z",
          "shell.execute_reply.started": "2022-08-07T20:52:18.682966Z",
          "shell.execute_reply": "2022-08-07T20:52:18.690500Z"
        },
        "trusted": true,
        "id": "RiFmxbhDcIFI"
      },
      "execution_count": null,
      "outputs": []
    },
    {
      "cell_type": "code",
      "source": [
        "pre_processed = [Preprocessing(i) for i in train['texto']]"
      ],
      "metadata": {
        "execution": {
          "iopub.status.busy": "2022-08-07T20:52:21.124600Z",
          "iopub.execute_input": "2022-08-07T20:52:21.125207Z",
          "iopub.status.idle": "2022-08-07T20:52:21.279775Z",
          "shell.execute_reply.started": "2022-08-07T20:52:21.125165Z",
          "shell.execute_reply": "2022-08-07T20:52:21.279087Z"
        },
        "trusted": true,
        "id": "DeDRpnl5cIFJ"
      },
      "execution_count": null,
      "outputs": []
    },
    {
      "cell_type": "code",
      "source": [
        "#quebra cada palavra em uma posicao de um array\n",
        "from nltk.tokenize import TweetTokenizer\n",
        "tweet_tokenizer = TweetTokenizer() \n",
        "vectorizer = CountVectorizer(analyzer=\"word\", tokenizer=tweet_tokenizer.tokenize)\n",
        "\n",
        "X = vectorizer.fit_transform(pre_processed)\n",
        "y = train['sentimento']\n"
      ],
      "metadata": {
        "execution": {
          "iopub.status.busy": "2022-08-07T20:52:29.165122Z",
          "iopub.execute_input": "2022-08-07T20:52:29.165460Z",
          "iopub.status.idle": "2022-08-07T20:52:29.216037Z",
          "shell.execute_reply.started": "2022-08-07T20:52:29.165424Z",
          "shell.execute_reply": "2022-08-07T20:52:29.215125Z"
        },
        "trusted": true,
        "id": "L54tOhKfcIFK"
      },
      "execution_count": null,
      "outputs": []
    },
    {
      "cell_type": "code",
      "source": [
        "#dividindo os dados em treino e teste na proporção 25% para teste e o restante para treino\n",
        "from sklearn.model_selection import train_test_split\n",
        "\n",
        "X_train, X_test, y_train, y_test = train_test_split(X, y, test_size=0.25, random_state=42)"
      ],
      "metadata": {
        "execution": {
          "iopub.status.busy": "2022-08-07T20:52:32.221211Z",
          "iopub.execute_input": "2022-08-07T20:52:32.221685Z",
          "iopub.status.idle": "2022-08-07T20:52:32.229407Z",
          "shell.execute_reply.started": "2022-08-07T20:52:32.221647Z",
          "shell.execute_reply": "2022-08-07T20:52:32.228425Z"
        },
        "trusted": true,
        "id": "GGPLmT7McIFL"
      },
      "execution_count": null,
      "outputs": []
    },
    {
      "cell_type": "code",
      "source": [
        "#checando a distribuição de frequencia dos dados\n",
        "import matplotlib.pyplot as plt\n",
        "count_classes = pd.value_counts(y_train, sort = True)\n",
        "count_classes.plot(kind = 'bar', rot=0)\n",
        "plt.title(\"Distribuição\")\n",
        "plt.xticks(range(3),['Negativo','Neutro','Positivo'])\n",
        "plt.xlabel(\"Sentimento\")\n",
        "plt.ylabel(\"Frequência\");"
      ],
      "metadata": {
        "execution": {
          "iopub.status.busy": "2022-08-07T20:52:35.215699Z",
          "iopub.execute_input": "2022-08-07T20:52:35.216400Z",
          "iopub.status.idle": "2022-08-07T20:52:35.434710Z",
          "shell.execute_reply.started": "2022-08-07T20:52:35.216333Z",
          "shell.execute_reply": "2022-08-07T20:52:35.433651Z"
        },
        "trusted": true,
        "colab": {
          "base_uri": "https://localhost:8080/",
          "height": 295
        },
        "id": "hTCJPehlcIFM",
        "outputId": "64261d1d-eedc-4c71-970e-baf6ae9154da"
      },
      "execution_count": null,
      "outputs": [
        {
          "output_type": "display_data",
          "data": {
            "text/plain": [
              "<Figure size 432x288 with 1 Axes>"
            ],
            "image/png": "[encoded data removed]"
          },
          "metadata": {
            "needs_background": "light"
          }
        }
      ]
    },
    {
      "cell_type": "code",
      "source": [
        "modelo = svm.SVC(C = 0.5, kernel='linear', probability=True, break_ties = False)\n",
        "modelo.fit(X_train,y_train)"
      ],
      "metadata": {
        "execution": {
          "iopub.status.busy": "2022-08-07T20:52:39.354252Z",
          "iopub.execute_input": "2022-08-07T20:52:39.354615Z",
          "iopub.status.idle": "2022-08-07T20:52:39.641448Z",
          "shell.execute_reply.started": "2022-08-07T20:52:39.354582Z",
          "shell.execute_reply": "2022-08-07T20:52:39.640500Z"
        },
        "trusted": true,
        "colab": {
          "base_uri": "https://localhost:8080/"
        },
        "id": "xcxNw_2scIFN",
        "outputId": "79c4f304-81bb-4a32-cb57-f4bb6199367c"
      },
      "execution_count": null,
      "outputs": [
        {
          "output_type": "execute_result",
          "data": {
            "text/plain": [
              "SVC(C=0.5, kernel='linear', probability=True)"
            ]
          },
          "metadata": {},
          "execution_count": 24
        }
      ]
    },
    {
      "cell_type": "markdown",
      "source": [
        "# Resultado obtido para o conjunto de treino\n",
        "\n",
        "Foi avaliado a acurácia e loss do modelo. Note que o modelo é razoavelmente melhor que jogar uma moeda, uma vez que teríamos 33% de precisão"
      ],
      "metadata": {
        "id": "EXNNH1GbcIFO"
      }
    },
    {
      "cell_type": "code",
      "source": [
        "# gerando predições (inferências) com aquela parte do conjunto de treino\n",
        "\n",
        "from sklearn.metrics import log_loss\n",
        "\n",
        "predictions = modelo.predict(X_test)\n",
        "probabilities = modelo.predict_proba(X_test)\n",
        "\n",
        "loss = log_loss(y_test, probabilities)\n",
        "accuracy = np.count_nonzero(predictions == y_test)/len(y_test)\n",
        "\n",
        "print(\"Acurácia\", accuracy)\n",
        "print(\"Log Loss\", loss)"
      ],
      "metadata": {
        "execution": {
          "iopub.status.busy": "2022-08-07T20:52:42.936800Z",
          "iopub.execute_input": "2022-08-07T20:52:42.937159Z",
          "iopub.status.idle": "2022-08-07T20:52:42.971434Z",
          "shell.execute_reply.started": "2022-08-07T20:52:42.937124Z",
          "shell.execute_reply": "2022-08-07T20:52:42.970042Z"
        },
        "trusted": true,
        "colab": {
          "base_uri": "https://localhost:8080/"
        },
        "id": "ijfLTQV6cIFP",
        "outputId": "1b501adb-1b17-4fbf-d72e-c9aaaec2fba3"
      },
      "execution_count": null,
      "outputs": [
        {
          "output_type": "stream",
          "name": "stdout",
          "text": [
            "Acurácia 0.5054945054945055\n",
            "Log Loss 0.9918043481522328\n"
          ]
        }
      ]
    },
    {
      "cell_type": "markdown",
      "source": [
        "# Matriz de Confusão"
      ],
      "metadata": {
        "id": "p8icH-oCcIFQ"
      }
    },
    {
      "cell_type": "code",
      "source": [
        "from sklearn.metrics import confusion_matrix\n",
        "confusion_matrix(predictions, y_test)"
      ],
      "metadata": {
        "execution": {
          "iopub.status.busy": "2022-08-07T20:52:48.455052Z",
          "iopub.execute_input": "2022-08-07T20:52:48.455366Z",
          "iopub.status.idle": "2022-08-07T20:52:48.463412Z",
          "shell.execute_reply.started": "2022-08-07T20:52:48.455330Z",
          "shell.execute_reply": "2022-08-07T20:52:48.462736Z"
        },
        "trusted": true,
        "colab": {
          "base_uri": "https://localhost:8080/"
        },
        "id": "zkHGPq1QcIFR",
        "outputId": "bdec5b87-25f5-48cc-9e60-f8c3f87708be"
      },
      "execution_count": null,
      "outputs": [
        {
          "output_type": "execute_result",
          "data": {
            "text/plain": [
              "array([[16, 11, 11],\n",
              "       [14, 22, 23],\n",
              "       [15, 16, 54]])"
            ]
          },
          "metadata": {},
          "execution_count": 27
        }
      ]
    },
    {
      "cell_type": "markdown",
      "source": [
        "# Cross Validation\n",
        "Cross Validation é uma técnica muito utilizada para avaliação de desempenho de modelos de aprendizado de máquina. O CV consiste em particionar os dados em conjuntos(partes), onde um conjunto é utilizado para treino e outro conjunto é utilizado para teste e avaliação do desempenho do modelo. A utilização do CV tem altas chances de detectar se o seu modelo está sobreajustado aos seus dados de treinamento, ou seja, sofrendo overfitting. Note que houve uma pequena diferença para o resultado do modelo em apenas um conjunto de teste, porém o resultado ainda foi melhor que os 33% trivial."
      ],
      "metadata": {
        "id": "K91-7xO7cIFR"
      }
    },
    {
      "cell_type": "code",
      "source": [
        "#cross-validation\n",
        "resultados = cross_val_predict(modelo, X_test,y_test, cv=10)\n",
        "metrics.accuracy_score(y_test,resultados)"
      ],
      "metadata": {
        "execution": {
          "iopub.status.busy": "2022-08-07T21:00:36.877586Z",
          "iopub.execute_input": "2022-08-07T21:00:36.877919Z",
          "iopub.status.idle": "2022-08-07T21:00:37.211843Z",
          "shell.execute_reply.started": "2022-08-07T21:00:36.877882Z",
          "shell.execute_reply": "2022-08-07T21:00:37.210691Z"
        },
        "trusted": true,
        "colab": {
          "base_uri": "https://localhost:8080/"
        },
        "id": "aXXOsdflcIFS",
        "outputId": "9f718c05-b066-4a5a-e3d8-ee33a336cc7f"
      },
      "execution_count": null,
      "outputs": [
        {
          "output_type": "execute_result",
          "data": {
            "text/plain": [
              "0.44505494505494503"
            ]
          },
          "metadata": {},
          "execution_count": 28
        }
      ]
    }
  ]
}